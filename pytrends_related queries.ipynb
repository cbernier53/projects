{
 "cells": [
  {
   "cell_type": "code",
   "execution_count": 3,
   "id": "408d651d",
   "metadata": {},
   "outputs": [
    {
     "name": "stdout",
     "output_type": "stream",
     "text": [
      "Cooper Hello\n",
      "Bernier Hello\n"
     ]
    }
   ],
   "source": [
    "import pandas as pd                        \n",
    "from pytrends.request import TrendReq\n",
    "\n",
    "#build model\n",
    "pytrend = TrendReq()\n",
    "\n",
    "#provide your search terms\n",
    "keywords= ['Cooper', 'Bernier']\n",
    "\n",
    "kw_list = keywords\n",
    "\n",
    "def function(*alist):\n",
    "    for r in alist:\n",
    "        print(r, \"Hello\")\n",
    "        \n",
    "    \n",
    "    \n",
    "function(*keywords)\n"
   ]
  },
  {
   "cell_type": "code",
   "execution_count": 5,
   "id": "35f5fbfc",
   "metadata": {},
   "outputs": [
    {
     "name": "stdout",
     "output_type": "stream",
     "text": [
      "                           query  value\n",
      "0           marketplace facebook  13750\n",
      "1             facebook hoşgeldin   2400\n",
      "2            facebook lite login   1450\n",
      "3                mbasic facebook   1450\n",
      "4             facebook com login   1300\n",
      "5             facebook connexion   1300\n",
      "6                 facebook войти   1100\n",
      "7      facebook business manager   1100\n",
      "8            facebook connection   1000\n",
      "9                  facebook lite   1000\n",
      "10               log in facebook    850\n",
      "11                  facebook log    750\n",
      "12             facebook lite apk    650\n",
      "13            facebook logowanie    650\n",
      "14             log into facebook    650\n",
      "15       descargar facebook lite    650\n",
      "16         facebook přihlasit se    600\n",
      "17             facebook logga in    500\n",
      "18               facebook szukaj    500\n",
      "19                basic facebook    500\n",
      "20                facebook logín    450\n",
      "21            facebook aanmelden    450\n",
      "22  descargar videos de facebook    450\n",
      "23     facebook video downloader    400\n",
      "24             facebook anmelden    350\n"
     ]
    }
   ],
   "source": [
    "pytrend.build_payload(kw_list=kw_list)\n",
    "\n",
    "\n",
    "#get related queries\n",
    "related_queries = pytrend.related_queries()\n",
    "related_queries.values()\n",
    "\n",
    "#build lists dataframes\n",
    "\n",
    "top = list(related_queries.values())[0]['top']\n",
    "rising = list(related_queries.values())[0]['rising']\n",
    "\n"
   ]
  },
  {
   "cell_type": "code",
   "execution_count": 20,
   "id": "38013d68",
   "metadata": {},
   "outputs": [
    {
     "name": "stdout",
     "output_type": "stream",
     "text": [
      "Cooper Hello\n",
      "Bernier Hello\n",
      "[]\n"
     ]
    }
   ],
   "source": [
    "def function1(list):\n",
    "    print(list, \"Hello\")\n",
    "\n",
    "    \n",
    "r = [x for x in map(function1, keywords) if x is not None]\n",
    "print(list(r))"
   ]
  },
  {
   "cell_type": "code",
   "execution_count": null,
   "id": "ed756c6c",
   "metadata": {},
   "outputs": [],
   "source": []
  }
 ],
 "metadata": {
  "kernelspec": {
   "display_name": "Python 3 (ipykernel)",
   "language": "python",
   "name": "python3"
  },
  "language_info": {
   "codemirror_mode": {
    "name": "ipython",
    "version": 3
   },
   "file_extension": ".py",
   "mimetype": "text/x-python",
   "name": "python",
   "nbconvert_exporter": "python",
   "pygments_lexer": "ipython3",
   "version": "3.9.6"
  }
 },
 "nbformat": 4,
 "nbformat_minor": 5
}
