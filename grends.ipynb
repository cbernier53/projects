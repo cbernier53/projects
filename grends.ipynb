{
 "cells": [
  {
   "cell_type": "code",
   "execution_count": 2,
   "id": "d4c566d6",
   "metadata": {},
   "outputs": [
    {
     "ename": "ModuleNotFoundError",
     "evalue": "No module named 'pytrends'",
     "output_type": "error",
     "traceback": [
      "\u001b[0;31m---------------------------------------------------------------------------\u001b[0m",
      "\u001b[0;31mModuleNotFoundError\u001b[0m                       Traceback (most recent call last)",
      "Input \u001b[0;32mIn [2]\u001b[0m, in \u001b[0;36m<cell line: 4>\u001b[0;34m()\u001b[0m\n\u001b[1;32m      2\u001b[0m \u001b[38;5;28;01mimport\u001b[39;00m \u001b[38;5;21;01mjson\u001b[39;00m\n\u001b[1;32m      3\u001b[0m \u001b[38;5;28;01mimport\u001b[39;00m \u001b[38;5;21;01mtime\u001b[39;00m\n\u001b[0;32m----> 4\u001b[0m \u001b[38;5;28;01mfrom\u001b[39;00m \u001b[38;5;21;01mpytrends\u001b[39;00m\u001b[38;5;21;01m.\u001b[39;00m\u001b[38;5;21;01mrequest\u001b[39;00m \u001b[38;5;28;01mimport\u001b[39;00m TrendReq\n",
      "\u001b[0;31mModuleNotFoundError\u001b[0m: No module named 'pytrends'"
     ]
    }
   ],
   "source": [
    "import pandas as pd\n",
    "import json\n",
    "import time\n",
    "from pytrends.request import TrendReq"
   ]
  },
  {
   "cell_type": "code",
   "execution_count": 2,
   "id": "32ee058b",
   "metadata": {},
   "outputs": [],
   "source": [
    "get_gsc_file = \"PyTrends.csv\"\n",
    "cutoff = 10\n",
    "pause = \"3\"\n",
    "#timeframe = \"Today 1-m\"\n",
    "geo = \"US\""
   ]
  },
  {
   "cell_type": "code",
   "execution_count": 3,
   "id": "3bb8247f",
   "metadata": {},
   "outputs": [],
   "source": [
    "df = pd.read_csv(get_gsc_file, encoding='utf-8')\n",
    "df = df[:cutoff]"
   ]
  },
  {
   "cell_type": "code",
   "execution_count": 4,
   "id": "d2e08760",
   "metadata": {},
   "outputs": [],
   "source": [
    "d = {'Keyword': [],'Trend': []}\n",
    "df3 = pd.DataFrame(data=d)\n",
    "keywords = []\n",
    "trends = []\n",
    "#metric = df[sortby].tolist()\n",
    "up = 0\n",
    "down = 0\n",
    "flat = 0\n",
    "na = 0"
   ]
  },
  {
   "cell_type": "code",
   "execution_count": 5,
   "id": "462972fa",
   "metadata": {},
   "outputs": [],
   "source": [
    "for index, row in df.iterrows():\n",
    "  keyword = row['Queries']\n",
    "  pytrends = TrendReq(hl='en-US', tz=360)\n",
    "  kw_list = [keyword]\n",
    "  pytrends.build_payload(kw_list, cat=0, timeframe=\"today 3-m\", geo=\"US\", gprop='')\n",
    "  df2 = pytrends.interest_over_time()\n",
    "  keywords.append(keyword)\n",
    "  try:\n",
    "      trend1 = int((df2[keyword][-35] + df2[keyword][-28] + df2[keyword][-21])/3)\n",
    "      trend2 = int((df2[keyword][-28] + df2[keyword][-21] + df2[keyword][-14])/3)\n",
    "      trend3 = int((df2[keyword][-21] + df2[keyword][-14] + df2[keyword][-7])/3)  \n",
    "\n",
    "      if trend3 > trend2 and trend2 > trend1:\n",
    "        trends.append('UP')\n",
    "        up+=1\n",
    "      elif trend3 < trend2 and trend2 < trend1:\n",
    "        trends.append('DOWN')\n",
    "        down+=1\n",
    "      else:\n",
    "        trends.append('FLAT')\n",
    "        flat+=1\n",
    "  except:\n",
    "      trends.append('N/A')\n",
    "      na+=1\n",
    "time.sleep(2)\n",
    "\n"
   ]
  },
  {
   "cell_type": "code",
   "execution_count": 6,
   "id": "81ad04f7",
   "metadata": {},
   "outputs": [],
   "source": [
    "df3['Keyword'] = keywords\n",
    "df3['Trend'] = trends\n"
   ]
  },
  {
   "cell_type": "code",
   "execution_count": 7,
   "id": "c627ebec",
   "metadata": {},
   "outputs": [],
   "source": [
    "def colortable(val):\n",
    "    if val == 'DOWN':\n",
    "        color=\"lightcoral\"\n",
    "    elif val == 'UP':\n",
    "        color = \"lightgreen\"\n",
    "    elif val == 'FLAT':\n",
    "        color = \"lightblue\"\n",
    "    else:\n",
    "        color = 'white'\n",
    "    return 'background-color: %s' % color\n",
    "\n",
    "    df3 = df3.style.applymap(colortable)\n"
   ]
  },
  {
   "cell_type": "code",
   "execution_count": 8,
   "id": "42d004c7",
   "metadata": {},
   "outputs": [
    {
     "name": "stdout",
     "output_type": "stream",
     "text": [
      "Up: 0 | 0.0%\n",
      "Down: 2 | 20.0%\n",
      "Flat: 7 | 70.0%\n",
      "N/A: 1 | 10.0%\n"
     ]
    },
    {
     "data": {
      "text/html": [
       "<div>\n",
       "<style scoped>\n",
       "    .dataframe tbody tr th:only-of-type {\n",
       "        vertical-align: middle;\n",
       "    }\n",
       "\n",
       "    .dataframe tbody tr th {\n",
       "        vertical-align: top;\n",
       "    }\n",
       "\n",
       "    .dataframe thead th {\n",
       "        text-align: right;\n",
       "    }\n",
       "</style>\n",
       "<table border=\"1\" class=\"dataframe\">\n",
       "  <thead>\n",
       "    <tr style=\"text-align: right;\">\n",
       "      <th></th>\n",
       "      <th>Keyword</th>\n",
       "      <th>Trend</th>\n",
       "    </tr>\n",
       "  </thead>\n",
       "  <tbody>\n",
       "    <tr>\n",
       "      <th>0</th>\n",
       "      <td>chase order checks</td>\n",
       "      <td>FLAT</td>\n",
       "    </tr>\n",
       "    <tr>\n",
       "      <th>1</th>\n",
       "      <td>how to order checks from chase</td>\n",
       "      <td>FLAT</td>\n",
       "    </tr>\n",
       "    <tr>\n",
       "      <th>2</th>\n",
       "      <td>wells fargo checks</td>\n",
       "      <td>DOWN</td>\n",
       "    </tr>\n",
       "    <tr>\n",
       "      <th>3</th>\n",
       "      <td>order checks chase</td>\n",
       "      <td>FLAT</td>\n",
       "    </tr>\n",
       "    <tr>\n",
       "      <th>4</th>\n",
       "      <td>pnc checks</td>\n",
       "      <td>DOWN</td>\n",
       "    </tr>\n",
       "    <tr>\n",
       "      <th>5</th>\n",
       "      <td>pnc order checks</td>\n",
       "      <td>FLAT</td>\n",
       "    </tr>\n",
       "    <tr>\n",
       "      <th>6</th>\n",
       "      <td>how to get free checks from chase</td>\n",
       "      <td>N/A</td>\n",
       "    </tr>\n",
       "    <tr>\n",
       "      <th>7</th>\n",
       "      <td>bank of america checks</td>\n",
       "      <td>FLAT</td>\n",
       "    </tr>\n",
       "    <tr>\n",
       "      <th>8</th>\n",
       "      <td>chase checks</td>\n",
       "      <td>FLAT</td>\n",
       "    </tr>\n",
       "    <tr>\n",
       "      <th>9</th>\n",
       "      <td>wells fargo free checks</td>\n",
       "      <td>FLAT</td>\n",
       "    </tr>\n",
       "  </tbody>\n",
       "</table>\n",
       "</div>"
      ],
      "text/plain": [
       "                             Keyword Trend\n",
       "0                 chase order checks  FLAT\n",
       "1     how to order checks from chase  FLAT\n",
       "2                 wells fargo checks  DOWN\n",
       "3                 order checks chase  FLAT\n",
       "4                         pnc checks  DOWN\n",
       "5                   pnc order checks  FLAT\n",
       "6  how to get free checks from chase   N/A\n",
       "7             bank of america checks  FLAT\n",
       "8                       chase checks  FLAT\n",
       "9            wells fargo free checks  FLAT"
      ]
     },
     "execution_count": 8,
     "metadata": {},
     "output_type": "execute_result"
    }
   ],
   "source": [
    "total = len(trends)\n",
    "print(\"Up: \" + str(up) + \" | \" + str(round((up/total)*100,0)) + \"%\")\n",
    "print(\"Down: \" + str(down) + \" | \" + str(round((down/total)*100,0)) + \"%\")\n",
    "print(\"Flat: \" + str(flat) + \" | \" + str(round((flat/total)*100,0)) + \"%\")\n",
    "print(\"N/A: \" + str(na) + \" | \" + str(round((na/total)*100,0)) + \"%\")\n",
    "\n",
    "df3"
   ]
  },
  {
   "cell_type": "code",
   "execution_count": null,
   "id": "7efcc1ce",
   "metadata": {},
   "outputs": [],
   "source": []
  }
 ],
 "metadata": {
  "kernelspec": {
   "display_name": "Python 3 (ipykernel)",
   "language": "python",
   "name": "python3"
  },
  "language_info": {
   "codemirror_mode": {
    "name": "ipython",
    "version": 3
   },
   "file_extension": ".py",
   "mimetype": "text/x-python",
   "name": "python",
   "nbconvert_exporter": "python",
   "pygments_lexer": "ipython3",
   "version": "3.9.12"
  }
 },
 "nbformat": 4,
 "nbformat_minor": 5
}
