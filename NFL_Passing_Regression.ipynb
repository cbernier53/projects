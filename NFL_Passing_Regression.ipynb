{
 "cells": [
  {
   "cell_type": "code",
   "execution_count": 1,
   "id": "4f618729",
   "metadata": {},
   "outputs": [],
   "source": [
    "import pandas as pd\n",
    "import numpy as np\n",
    "import requests\n",
    "from bs4 import BeautifulSoup as bs\n",
    "from matplotlib import pyplot as plt\n",
    "import seaborn as sns\n",
    "from sklearn.linear_model import LinearRegression\n",
    "from sklearn.model_selection import train_test_split\n",
    "from sklearn.metrics import mean_squared_error, r2_score\n",
    "\n",
    "\n",
    "#parsing nfl data from the last 5 years to predict touchdowns based on passing yards\n",
    "#Uses previous 5 years of historic data from nfl.com using pandas web-scraper to create a linear regression model using scikit-learn\n"
   ]
  },
  {
   "cell_type": "code",
   "execution_count": 4,
   "id": "975ddabd",
   "metadata": {},
   "outputs": [],
   "source": [
    "listy = [2021, 2020, 2019, 2018, 2017, 2016]\n",
    "df = []\n",
    "for i in range(0, len(listy)):\n",
    "    url = \"https://www.nfl.com/stats/player-stats/category/passing/%s/post/all/passingyards/desc\" % listy[i]\n",
    "    r = requests.get(url)\n",
    "    dflist = pd.read_html(r.text) \n",
    "    df.append(dflist[0])\n",
    "    # this parses all the tables in webpages to a list\n",
    "\n",
    "\n",
    "\n",
    "df = np.array(df)\n",
    "\n",
    "df = df.reshape(150, 16)\n",
    "#use numpy to shape array into 2D array\n",
    "\n",
    "df = pd.DataFrame(df)\n",
    "\n",
    "listi = [0, 1, 2, 3, 4, 5, 6, 7, 8]\n",
    "df = df[listi]\n",
    "column_names = ['Player','Pass_Yds','Yds/Att','Att','Cmp','Cmp %', 'TD','INT', 'Rating']\n",
    "df.columns = column_names\n",
    "#rename column names\n",
    "\n",
    "df\n",
    "df.insert(1, 'year', 0)\n",
    "pd.set_option('display.max_columns', 500)\n",
    "\n",
    "m=0\n",
    "y = 2021\n",
    "\n",
    "for i in range(0, len(df['year'])):\n",
    "    df.iloc[i, 1] = y\n",
    "    m +=1\n",
    "    \n",
    "    if m == 25:\n",
    "        y += -1\n",
    "        m = 0\n",
    "        #append year for each data point\n",
    "\n",
    "        \n",
    "\n",
    "        \n",
    "        \n",
    "            \n",
    "        \n",
    "       \n",
    "    \n",
    "    \n",
    "    \n",
    "        \n",
    "   \n",
    "\n",
    "    \n",
    "\n"
   ]
  },
  {
   "cell_type": "code",
   "execution_count": 67,
   "id": "1a81ea3c",
   "metadata": {},
   "outputs": [
    {
     "data": {
      "text/plain": [
       "<seaborn.axisgrid.FacetGrid at 0x7fe650a75610>"
      ]
     },
     "execution_count": 67,
     "metadata": {},
     "output_type": "execute_result"
    },
    {
     "data": {
      "image/png": "[encoded data removed]",
      "text/plain": [
       "<Figure size 360x360 with 1 Axes>"
      ]
     },
     "metadata": {
      "needs_background": "light"
     },
     "output_type": "display_data"
    }
   ],
   "source": [
    "df['Pass_Yds'] = df['Pass_Yds'].astype('float32')\n",
    "df['TD'] = df['TD'].astype('float32')\n",
    "\n",
    "sns.lmplot(x='Pass_Yds', y='TD', data=df) \n",
    "\n",
    "#change to float for seaborn & check for linear relationship between passing yards and touchdowns\n"
   ]
  },
  {
   "cell_type": "code",
   "execution_count": 90,
   "id": "2ecd3133",
   "metadata": {},
   "outputs": [
    {
     "name": "stdout",
     "output_type": "stream",
     "text": [
      "The r^2 for this model is  0.34514575871036246\n"
     ]
    }
   ],
   "source": [
    "X = df['Pass_Yds'].values.reshape(-1, 1)\n",
    "y = df['TD'].values.reshape(-1, 1)\n",
    "X_train, X_test, y_train, y_test = train_test_split(X, y, test_size = 0.2, random_state=42)\n",
    "regr = LinearRegression()\n",
    "regr.fit(X_train, y_train)\n",
    "y_pred = regr.predict(X_test)\n",
    "\n",
    "print(\"The r^2 for this model is \", regr.score(X_test, y_test))\n"
   ]
  },
  {
   "cell_type": "code",
   "execution_count": 91,
   "id": "8380d594",
   "metadata": {},
   "outputs": [
    {
     "data": {
      "image/png": "[encoded data removed]",
      "text/plain": [
       "<Figure size 432x288 with 1 Axes>"
      ]
     },
     "metadata": {
      "needs_background": "light"
     },
     "output_type": "display_data"
    }
   ],
   "source": [
    "plt.scatter(X_test, y_test, color ='b')\n",
    "plt.plot(X_test, y_pred, color ='k')\n",
    "plt.show()"
   ]
  },
  {
   "cell_type": "code",
   "execution_count": 114,
   "id": "660bf9a9",
   "metadata": {},
   "outputs": [
    {
     "name": "stdout",
     "output_type": "stream",
     "text": [
      "To estimate Pass-Yds based on Touchdowns use this equation  y= [-6.278927] + [[0.00802838]] x\n",
      "Input a passing yard number to estimate predicted touchdowns\n",
      "5200\n",
      "35.46865697205067\n"
     ]
    }
   ],
   "source": [
    "print(\"To estimate Pass-Yds based on Touchdowns use this equation \", \"y=\", regr.intercept_, \"+\", regr.coef_,\"x\")\n",
    "\n",
    "print(\"Input a passing yard number to estimate predicted touchdowns\")\n",
    "i = input()\n",
    "i =int(i)\n",
    "\n",
    "r = (i * float(regr.coef_)) + float(regr.intercept_)\n",
    "print(r)\n",
    "\n",
    "#allow user to estimate touchdowns besides on desired passing yards"
   ]
  },
  {
   "cell_type": "code",
   "execution_count": null,
   "id": "0a4a24d0",
   "metadata": {},
   "outputs": [],
   "source": []
  }
 ],
 "metadata": {
  "kernelspec": {
   "display_name": "Python 3 (ipykernel)",
   "language": "python",
   "name": "python3"
  },
  "language_info": {
   "codemirror_mode": {
    "name": "ipython",
    "version": 3
   },
   "file_extension": ".py",
   "mimetype": "text/x-python",
   "name": "python",
   "nbconvert_exporter": "python",
   "pygments_lexer": "ipython3",
   "version": "3.9.6"
  }
 },
 "nbformat": 4,
 "nbformat_minor": 5
}
